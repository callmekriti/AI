{
  "nbformat": 4,
  "nbformat_minor": 0,
  "metadata": {
    "colab": {
      "provenance": []
    },
    "kernelspec": {
      "name": "python3",
      "display_name": "Python 3"
    },
    "language_info": {
      "name": "python"
    }
  },
  "cells": [
    {
      "cell_type": "markdown",
      "source": [
        "Question 1"
      ],
      "metadata": {
        "id": "AqfgzqMrv9zp"
      }
    },
    {
      "cell_type": "code",
      "source": [
        "# takes type and then the actual value to be printed finally then converts accordingly and returns it\n",
        "def convertLength(x,type):\n",
        "  if (type==\"meters\"):\n",
        "    result=x*3.28\n",
        "  elif(type==\"feet\"):\n",
        "    result=x/3.28\n",
        "  return result\n",
        "\n",
        "# takes weight and the type and converts accordingly and returns it\n",
        "def convertWeight(x,type):\n",
        "  if (type==\"kilograms\"):\n",
        "    result=x*2.20\n",
        "  elif(type==\"pounds\"):\n",
        "    result=x/2.20\n",
        "  return result\n",
        "\n",
        "# takes volume and the type and converts accordingly and returns it\n",
        "def convertVolume(x,type):\n",
        "  if (type==\"liters\"):\n",
        "    result=x*3.78\n",
        "  elif(type==\"gallons\"):\n",
        "    result=x/3.78\n",
        "  return result"
      ],
      "metadata": {
        "id": "qn4UC6OEwDIg"
      },
      "execution_count": 1,
      "outputs": []
    },
    {
      "cell_type": "code",
      "source": [
        "conversion=input(\"Enter the type of conversion: length, weight, volume\")\n",
        "a=input(\"Enter the value to be converted: \")\n",
        "try:\n",
        "    a=int(a)\n",
        "except:\n",
        "    print(\"Invalid input\")\n",
        "type=input(\"Enter the type of value your entered: meters,feet,kilograms,pounds,liters,gallons\")\n",
        "match conversion:\n",
        "  case \"length\":\n",
        "    print(convertLength(a,type))\n",
        "  case \"weight\":\n",
        "    print(convertWeight(a,type))\n",
        "  case \"volume\":\n",
        "    print(convertVolume(a,type))"
      ],
      "metadata": {
        "colab": {
          "base_uri": "https://localhost:8080/"
        },
        "id": "xB4pGa4Owox5",
        "outputId": "b7e1511f-696d-48b8-9a0b-3a024348e34f"
      },
      "execution_count": 2,
      "outputs": [
        {
          "output_type": "stream",
          "name": "stdout",
          "text": [
            "Enter the type of conversion: length, weight, volumelength\n",
            "Enter the value to be converted: 4\n",
            "Enter the type of value your entered: meters,feet,kilograms,pounds,liters,gallonsmeters\n",
            "13.12\n"
          ]
        }
      ]
    },
    {
      "cell_type": "markdown",
      "source": [
        "Question 2"
      ],
      "metadata": {
        "id": "VSYn7VO5w3-i"
      }
    },
    {
      "cell_type": "code",
      "source": [
        "def sum(x):\n",
        "  # takes a parameter list and provides the sum of the elements of list\n",
        "  result=0\n",
        "  for x in x:\n",
        "    result+=x\n",
        "  return result\n",
        "\n",
        "def average(x):\n",
        "  # takes a parameter list and returns the average of the elements\n",
        "  result=0\n",
        "  for x in x:\n",
        "    sum+=x\n",
        "  result=sum/len(x)\n",
        "  return result\n",
        "\n",
        "def maximum(x):\n",
        "  # takes a parameter list and returns the maximum of the elements\n",
        "  return max(x)\n",
        "\n",
        "def minimum(x):\n",
        "  # takes a parameter list and returns the maximum of the elements\n",
        "  return min(x)\n"
      ],
      "metadata": {
        "id": "3j-M_ycmw6LM"
      },
      "execution_count": 3,
      "outputs": []
    },
    {
      "cell_type": "code",
      "source": [
        "a=input(\"enter list separated by spaces\")\n",
        "try:\n",
        "  list=[int(x) for x in a if x.isnumeric()]\n",
        "except:\n",
        "  print(\"Enter valid numbers\")\n",
        "operation=input(\"Enter operation: sum, average,maximum,minimum\")\n",
        "match operation:\n",
        "  case \"sum\":\n",
        "    print(sum(list))\n",
        "  case \"average\":\n",
        "    print(average(list))\n",
        "  case \"maximum\":\n",
        "    print(maximum(list))\n",
        "  case \"minimum\":\n",
        "    print(minimum(list))\n"
      ],
      "metadata": {
        "colab": {
          "base_uri": "https://localhost:8080/"
        },
        "id": "X_j-P45Vw-vn",
        "outputId": "de428787-10fe-4b30-8b1d-d406a1998998"
      },
      "execution_count": 6,
      "outputs": [
        {
          "output_type": "stream",
          "name": "stdout",
          "text": [
            "enter list separated by spaces3 4 5\n",
            "Enter operation: sum, average,maximum,minimumsum\n",
            "12\n"
          ]
        }
      ]
    },
    {
      "cell_type": "markdown",
      "source": [
        "Question 3"
      ],
      "metadata": {
        "id": "0L57d3CVxILx"
      }
    },
    {
      "cell_type": "code",
      "source": [
        "def extract_every_other(lst):\n",
        "  new_list=[x for index,x in enumerate(lst) if index%2==0]\n",
        "  return new_list\n",
        "\n",
        "print(extract_every_other([1,2,3,4,5,6]))\n"
      ],
      "metadata": {
        "colab": {
          "base_uri": "https://localhost:8080/"
        },
        "id": "zO8_Ncs1xKdl",
        "outputId": "957a73ee-ee77-4893-ec8c-0744eb59a09e"
      },
      "execution_count": 5,
      "outputs": [
        {
          "output_type": "stream",
          "name": "stdout",
          "text": [
            "[1, 3, 5]\n"
          ]
        }
      ]
    },
    {
      "cell_type": "markdown",
      "source": [
        "Question 4"
      ],
      "metadata": {
        "id": "EOJAuGjhxNmq"
      }
    },
    {
      "cell_type": "code",
      "source": [
        "def get_sublist(lst,start,end):\n",
        "  new_list=lst[start:end+1]\n",
        "  return new_list\n",
        "\n",
        "print(get_sublist([1,2,3,4,5,6],2,4))\n"
      ],
      "metadata": {
        "colab": {
          "base_uri": "https://localhost:8080/"
        },
        "id": "uXBgVlL6xPbV",
        "outputId": "f36fc5fe-971d-4480-ad2e-aeaa48d708b0"
      },
      "execution_count": 7,
      "outputs": [
        {
          "output_type": "stream",
          "name": "stdout",
          "text": [
            "[3, 4, 5]\n"
          ]
        }
      ]
    },
    {
      "cell_type": "markdown",
      "source": [
        "Question 5"
      ],
      "metadata": {
        "id": "5OtmKlfqxSRX"
      }
    },
    {
      "cell_type": "code",
      "source": [
        "def reverse_list(lst):\n",
        "  new_list=lst[::-1]\n",
        "  return new_list\n",
        "\n",
        "print(reverse_list([1,2,3,4,5,6]))"
      ],
      "metadata": {
        "colab": {
          "base_uri": "https://localhost:8080/"
        },
        "id": "pc5wAq41xUDq",
        "outputId": "446bed3a-84f9-476a-acbf-0b4f383164dc"
      },
      "execution_count": 8,
      "outputs": [
        {
          "output_type": "stream",
          "name": "stdout",
          "text": [
            "[6, 5, 4, 3, 2, 1]\n"
          ]
        }
      ]
    },
    {
      "cell_type": "markdown",
      "source": [
        "Question 6"
      ],
      "metadata": {
        "id": "w7J6k-BbxW_9"
      }
    },
    {
      "cell_type": "code",
      "source": [
        "def remove_first_last(lst):\n",
        "  new_list=lst[1:len(lst)-1]\n",
        "  return new_list\n",
        "\n",
        "print(remove_first_last([1,2,3,4,5]))\n"
      ],
      "metadata": {
        "colab": {
          "base_uri": "https://localhost:8080/"
        },
        "id": "PKRz_-pzxZgN",
        "outputId": "5f7f56d2-e135-49c0-c86b-9a24aad97534"
      },
      "execution_count": 9,
      "outputs": [
        {
          "output_type": "stream",
          "name": "stdout",
          "text": [
            "[2, 3, 4]\n"
          ]
        }
      ]
    },
    {
      "cell_type": "markdown",
      "source": [
        "Question 7"
      ],
      "metadata": {
        "id": "rZljfk9kxb9I"
      }
    },
    {
      "cell_type": "code",
      "source": [
        "def get_first_n(lst,n):\n",
        "  new_list=lst[:n]\n",
        "  return new_list\n",
        "\n",
        "print(get_first_n([1,2,3,4,5],3))\n"
      ],
      "metadata": {
        "colab": {
          "base_uri": "https://localhost:8080/"
        },
        "id": "OL-9TkFIxdr0",
        "outputId": "88f490a4-ba7b-4c7a-ffc4-3eb12f8966d0"
      },
      "execution_count": 10,
      "outputs": [
        {
          "output_type": "stream",
          "name": "stdout",
          "text": [
            "[1, 2, 3]\n"
          ]
        }
      ]
    },
    {
      "cell_type": "markdown",
      "source": [
        "Question 8"
      ],
      "metadata": {
        "id": "wGNAMDtdxg4g"
      }
    },
    {
      "cell_type": "code",
      "source": [
        "def get_last_n(lst,n):\n",
        "  new_list=lst[len(lst)-n:]\n",
        "  return new_list\n",
        "\n",
        "print(get_last_n([1,2,3,4,5],2))"
      ],
      "metadata": {
        "colab": {
          "base_uri": "https://localhost:8080/"
        },
        "id": "x9gHm8zKxiNY",
        "outputId": "7e622917-0065-40d0-ba7d-737a4c047fff"
      },
      "execution_count": 11,
      "outputs": [
        {
          "output_type": "stream",
          "name": "stdout",
          "text": [
            "[4, 5]\n"
          ]
        }
      ]
    },
    {
      "cell_type": "markdown",
      "source": [
        "Question 9"
      ],
      "metadata": {
        "id": "GojbK2BYxkUC"
      }
    },
    {
      "cell_type": "code",
      "source": [
        "def reverse_skip(lst):\n",
        "  new_list=lst[::-1]\n",
        "  new_list=new_list[1::2]\n",
        "  return new_list\n",
        "\n",
        "print(reverse_skip([1,2,3,4,5,6]))"
      ],
      "metadata": {
        "colab": {
          "base_uri": "https://localhost:8080/"
        },
        "id": "oaguddAbxmL0",
        "outputId": "db938a15-f565-4c2f-b276-bc7225e95ca9"
      },
      "execution_count": null,
      "outputs": [
        {
          "output_type": "stream",
          "name": "stdout",
          "text": [
            "[5, 3, 1]\n"
          ]
        }
      ]
    },
    {
      "cell_type": "markdown",
      "source": [
        "Question 10"
      ],
      "metadata": {
        "id": "QiR2jy1xxonT"
      }
    },
    {
      "cell_type": "code",
      "source": [
        "def flatten(lst):\n",
        "  new_list=[]\n",
        "  for x in lst:\n",
        "    for y in x:\n",
        "      new_list.append(y)\n",
        "  return new_list\n",
        "\n",
        "print(flatten([[1,2,3],[4,5,6]]))"
      ],
      "metadata": {
        "colab": {
          "base_uri": "https://localhost:8080/"
        },
        "id": "YCq7qRuPxqSS",
        "outputId": "d2dab7d0-238a-46bf-bc14-7a8d6e29ce14"
      },
      "execution_count": null,
      "outputs": [
        {
          "output_type": "stream",
          "name": "stdout",
          "text": [
            "[1, 2, 3, 4, 5, 6]\n"
          ]
        }
      ]
    },
    {
      "cell_type": "markdown",
      "source": [
        "Question 11"
      ],
      "metadata": {
        "id": "jHciIsjWxtLe"
      }
    },
    {
      "cell_type": "code",
      "source": [
        "def access_nested_element(lst,indices):\n",
        "  for index in indices:\n",
        "    lst=lst[index]\n",
        "  return lst\n",
        "\n",
        "print(access_nested_element([[1,2,3],[4,5,6],[7,8,9]],[1,2]))\n"
      ],
      "metadata": {
        "colab": {
          "base_uri": "https://localhost:8080/"
        },
        "id": "lHUOUSScxv-X",
        "outputId": "d86b6c74-66ee-41b6-85b4-a62995af13b4"
      },
      "execution_count": null,
      "outputs": [
        {
          "output_type": "stream",
          "name": "stdout",
          "text": [
            "6\n"
          ]
        }
      ]
    },
    {
      "cell_type": "markdown",
      "source": [
        "Question 12"
      ],
      "metadata": {
        "id": "sLeCsFRTxyz7"
      }
    },
    {
      "cell_type": "code",
      "source": [
        "def sum_nested(lst):\n",
        "  sum=0\n",
        "  for x in lst:\n",
        "    if(type(x)==list):\n",
        "      for y in x:\n",
        "        if(type(y)==list):\n",
        "          for z in y:\n",
        "            sum+=z\n",
        "        else:\n",
        "          sum+=y\n",
        "    else:\n",
        "      sum+=x\n",
        "  return sum\n",
        "\n",
        "print(sum_nested([[1, 2], [3, [4, 5]], 6]))"
      ],
      "metadata": {
        "colab": {
          "base_uri": "https://localhost:8080/"
        },
        "id": "Gg34V34Qx1fi",
        "outputId": "311ffe2e-e161-4889-bef0-5a476b3b20ff"
      },
      "execution_count": null,
      "outputs": [
        {
          "output_type": "stream",
          "name": "stdout",
          "text": [
            "21\n"
          ]
        }
      ]
    },
    {
      "cell_type": "markdown",
      "source": [
        "Question 13\n"
      ],
      "metadata": {
        "id": "brAQRUtFylDg"
      }
    },
    {
      "cell_type": "code",
      "source": [
        "def remove_element(lst,elem):\n",
        "  for x in lst:\n",
        "    for y in x:\n",
        "      if(y==elem):\n",
        "        x.remove(y)\n",
        "  return lst\n",
        "\n",
        "print(remove_element([[1, 2], [3, 2], [4, 5]],2))"
      ],
      "metadata": {
        "colab": {
          "base_uri": "https://localhost:8080/"
        },
        "id": "e0D9fk7MyoZV",
        "outputId": "e02997af-cfc6-4941-e700-b9972741f536"
      },
      "execution_count": null,
      "outputs": [
        {
          "output_type": "stream",
          "name": "stdout",
          "text": [
            "[[1], [3], [4, 5]]\n"
          ]
        }
      ]
    },
    {
      "cell_type": "markdown",
      "source": [
        "Question 14"
      ],
      "metadata": {
        "id": "TiBQBuU8yrtl"
      }
    },
    {
      "cell_type": "code",
      "source": [
        "def find_max(lst):\n",
        "  max=0\n",
        "  for x in lst:\n",
        "    if(type(x)==list):\n",
        "      for y in x:\n",
        "        if(type(y)==list):\n",
        "          for z in y:\n",
        "            if(z>max):\n",
        "              max=z\n",
        "        else:\n",
        "          if(y>max):\n",
        "            max=y\n",
        "    else:\n",
        "      if(x>max):\n",
        "        max=x\n",
        "  return max\n",
        "\n",
        "print(find_max([[1, 2], [3, [4, 5]], 6]))\n"
      ],
      "metadata": {
        "colab": {
          "base_uri": "https://localhost:8080/"
        },
        "id": "-Pn_WQRPytYT",
        "outputId": "526de3b1-bf89-4fd9-9e8e-89f2eb340f54"
      },
      "execution_count": null,
      "outputs": [
        {
          "output_type": "stream",
          "name": "stdout",
          "text": [
            "6\n"
          ]
        }
      ]
    },
    {
      "cell_type": "markdown",
      "source": [
        "Question 15"
      ],
      "metadata": {
        "id": "OMvCKAsQywzV"
      }
    },
    {
      "cell_type": "code",
      "source": [
        "def count_occurences(lst,elem):\n",
        "  count=0\n",
        "  for x in lst:\n",
        "    for y in x:\n",
        "      if(y==elem):\n",
        "        count+=1\n",
        "  return count\n",
        "\n",
        "print(count_occurences([[1, 2], [3, 2], [4, 2]],2))\n"
      ],
      "metadata": {
        "colab": {
          "base_uri": "https://localhost:8080/"
        },
        "id": "VwHZ6z0ty0AA",
        "outputId": "cac7330d-4da4-4d2e-b928-4e2ed4b44f60"
      },
      "execution_count": null,
      "outputs": [
        {
          "output_type": "stream",
          "name": "stdout",
          "text": [
            "3\n"
          ]
        }
      ]
    },
    {
      "cell_type": "markdown",
      "source": [
        "Question 16"
      ],
      "metadata": {
        "id": "71cBSEV-y2eH"
      }
    },
    {
      "cell_type": "code",
      "source": [
        "def deep_flatten(lst):\n",
        "  new_list=[]\n",
        "  for x in lst:\n",
        "    if(type(x)==list):\n",
        "      for y in x:\n",
        "        if(type(y)==list):\n",
        "          for z in y:\n",
        "            new_list.append(z)\n",
        "        else:\n",
        "          new_list.append(y)\n",
        "    else:\n",
        "      new_list.append(x)\n",
        "\n",
        "  return new_list\n",
        "\n",
        "print(deep_flatten([[1, 2], [3, [4, 5]], 6]))"
      ],
      "metadata": {
        "colab": {
          "base_uri": "https://localhost:8080/"
        },
        "id": "UpHgf3ABy4vq",
        "outputId": "8331b0de-fa46-4262-9fc3-5fe0a9fbc940"
      },
      "execution_count": null,
      "outputs": [
        {
          "output_type": "stream",
          "name": "stdout",
          "text": [
            "[1, 2, 3, 4, 5, 6]\n"
          ]
        }
      ]
    },
    {
      "cell_type": "markdown",
      "source": [
        "Question 17"
      ],
      "metadata": {
        "id": "z6L__pZHy7y9"
      }
    },
    {
      "cell_type": "code",
      "source": [
        "def average_nested(lst):\n",
        "  avg=0\n",
        "  sum=0\n",
        "  length=0\n",
        "  for x in lst:\n",
        "    for y in x:\n",
        "      sum+=y\n",
        "      length+=1\n",
        "  avg=sum/length\n",
        "  return avg\n",
        "\n",
        "print(average_nested([[1, 2], [3, 4], [5, 6]]))\n"
      ],
      "metadata": {
        "colab": {
          "base_uri": "https://localhost:8080/"
        },
        "id": "cTrf2lrKy9O7",
        "outputId": "c93b8694-b3ac-4360-f3ec-3247f457a970"
      },
      "execution_count": null,
      "outputs": [
        {
          "output_type": "stream",
          "name": "stdout",
          "text": [
            "3.5\n"
          ]
        }
      ]
    },
    {
      "cell_type": "markdown",
      "source": [
        "Question 18"
      ],
      "metadata": {
        "id": "bDFSiougy_WT"
      }
    },
    {
      "cell_type": "code",
      "source": [
        "import numpy as np"
      ],
      "metadata": {
        "id": "8J4Qbz1LzBOG"
      },
      "execution_count": null,
      "outputs": []
    },
    {
      "cell_type": "code",
      "source": [
        "empty_arr=np.empty(2)\n",
        "one_arr=np.ones((4,2))\n",
        "full_arr=np.full((2,3),5)\n",
        "zerolikearr=np.zeros_like(one_arr)\n",
        "onelikearr=np.ones_like(one_arr)\n",
        "lstarr=np.array([1,2,3,4])\n",
        "print(empty_arr)\n",
        "print(one_arr)\n",
        "print(full_arr)\n",
        "print(zerolikearr)\n",
        "print(onelikearr)\n",
        "print(lstarr)\n",
        "\n"
      ],
      "metadata": {
        "colab": {
          "base_uri": "https://localhost:8080/"
        },
        "id": "Xmul25p8zEbV",
        "outputId": "6aad60a1-995f-4d31-e129-b7106493a2cf"
      },
      "execution_count": null,
      "outputs": [
        {
          "output_type": "stream",
          "name": "stdout",
          "text": [
            "[-5.73021895e-300  6.54049975e-310]\n",
            "[[1. 1.]\n",
            " [1. 1.]\n",
            " [1. 1.]\n",
            " [1. 1.]]\n",
            "[[5 5 5]\n",
            " [5 5 5]]\n",
            "[[0. 0.]\n",
            " [0. 0.]\n",
            " [0. 0.]\n",
            " [0. 0.]]\n",
            "[[1. 1.]\n",
            " [1. 1.]\n",
            " [1. 1.]\n",
            " [1. 1.]]\n",
            "[1 2 3 4]\n"
          ]
        }
      ]
    },
    {
      "cell_type": "markdown",
      "source": [
        "Question 19"
      ],
      "metadata": {
        "id": "hU-zNVlczJrA"
      }
    },
    {
      "cell_type": "code",
      "source": [
        "range_arr=np.arange(10,49)\n",
        "matrix=np.arange(0,9).reshape((3,3))\n",
        "eye_matrix=np.eye(3)\n",
        "rand=np.random.random((3,3))\n",
        "mean=rand.mean()\n",
        "rand1=np.random.random((10,10))\n",
        "max=rand1.max()\n",
        "min=rand1.min()\n",
        "zeroarr=np.zeros((10,10))\n",
        "zeroarr[6]=1\n",
        "arr=[1,2,0,0,4,0]\n",
        "reversearr=arr[::-1]\n",
        "arrborder=np.zeros((3,3))\n",
        "arrborder[0,:]=1\n",
        "arrborder[:,0]=1\n",
        "arrborder[:,-1]=1\n",
        "arrborder[-1,:]=1\n",
        "checkerboard=np.zeros((8,8))\n",
        "checkerboard[1::2,::2]=1\n",
        "checkerboard[::2,1::2]=1\n",
        "print(range_arr)\n",
        "print(matrix)\n",
        "print(eye_matrix)\n",
        "print(rand)\n",
        "print(mean)\n",
        "print(rand1)\n",
        "print(max)\n",
        "print(min)\n",
        "print(zeroarr)\n",
        "print(reversearr)\n",
        "print(arrborder)\n",
        "print(checkerboard)"
      ],
      "metadata": {
        "colab": {
          "base_uri": "https://localhost:8080/"
        },
        "id": "d-C7WDUkzLR2",
        "outputId": "12e77213-13ae-42b1-c2d4-9b65271e5547"
      },
      "execution_count": null,
      "outputs": [
        {
          "output_type": "stream",
          "name": "stdout",
          "text": [
            "[10 11 12 13 14 15 16 17 18 19 20 21 22 23 24 25 26 27 28 29 30 31 32 33\n",
            " 34 35 36 37 38 39 40 41 42 43 44 45 46 47 48]\n",
            "[[0 1 2]\n",
            " [3 4 5]\n",
            " [6 7 8]]\n",
            "[[1. 0. 0.]\n",
            " [0. 1. 0.]\n",
            " [0. 0. 1.]]\n",
            "[[0.98621525 0.99915472 0.01838065]\n",
            " [0.78399331 0.21621323 0.03259458]\n",
            " [0.49511489 0.55488381 0.79319139]]\n",
            "0.5421935376030816\n",
            "[[0.80860345 0.03737952 0.59679581 0.15025111 0.06698502 0.14504062\n",
            "  0.33189682 0.85117438 0.94033522 0.57451972]\n",
            " [0.58744844 0.95677891 0.49874951 0.89845742 0.46705278 0.72301887\n",
            "  0.80850946 0.62900679 0.65563079 0.63730134]\n",
            " [0.4207448  0.06010846 0.30458785 0.81218331 0.98252925 0.57922605\n",
            "  0.89752698 0.26444644 0.60811324 0.93163009]\n",
            " [0.59169156 0.96050685 0.21076251 0.00902767 0.29394886 0.21147776\n",
            "  0.72459875 0.8117464  0.49862743 0.44644808]\n",
            " [0.21398143 0.83403915 0.00733714 0.56301526 0.44570635 0.25766568\n",
            "  0.72742914 0.07556939 0.33038958 0.23602214]\n",
            " [0.5971922  0.96073937 0.38532823 0.19806744 0.11149716 0.23201635\n",
            "  0.93938165 0.77111949 0.98903258 0.1654932 ]\n",
            " [0.60713066 0.30733953 0.25940719 0.27110359 0.06680515 0.60818339\n",
            "  0.00521537 0.27823869 0.3160209  0.00560742]\n",
            " [0.13714397 0.62861443 0.19479598 0.02676972 0.58726983 0.75675616\n",
            "  0.99775511 0.7497152  0.97290316 0.17343646]\n",
            " [0.00540608 0.11417682 0.69781835 0.24673399 0.01630311 0.43233003\n",
            "  0.50670279 0.62515798 0.47588894 0.49608265]\n",
            " [0.15355113 0.78635874 0.1250492  0.59291531 0.19537636 0.40472199\n",
            "  0.51393788 0.11757889 0.98315498 0.92825031]]\n",
            "0.9977551116550946\n",
            "0.0052153743970285715\n",
            "[[0. 0. 0. 0. 0. 0. 0. 0. 0. 0.]\n",
            " [0. 0. 0. 0. 0. 0. 0. 0. 0. 0.]\n",
            " [0. 0. 0. 0. 0. 0. 0. 0. 0. 0.]\n",
            " [0. 0. 0. 0. 0. 0. 0. 0. 0. 0.]\n",
            " [0. 0. 0. 0. 0. 0. 0. 0. 0. 0.]\n",
            " [0. 0. 0. 0. 0. 0. 0. 0. 0. 0.]\n",
            " [1. 1. 1. 1. 1. 1. 1. 1. 1. 1.]\n",
            " [0. 0. 0. 0. 0. 0. 0. 0. 0. 0.]\n",
            " [0. 0. 0. 0. 0. 0. 0. 0. 0. 0.]\n",
            " [0. 0. 0. 0. 0. 0. 0. 0. 0. 0.]]\n",
            "[0, 4, 0, 0, 2, 1]\n",
            "[[1. 1. 1.]\n",
            " [1. 0. 1.]\n",
            " [1. 1. 1.]]\n",
            "[[0. 1. 0. 1. 0. 1. 0. 1.]\n",
            " [1. 0. 1. 0. 1. 0. 1. 0.]\n",
            " [0. 1. 0. 1. 0. 1. 0. 1.]\n",
            " [1. 0. 1. 0. 1. 0. 1. 0.]\n",
            " [0. 1. 0. 1. 0. 1. 0. 1.]\n",
            " [1. 0. 1. 0. 1. 0. 1. 0.]\n",
            " [0. 1. 0. 1. 0. 1. 0. 1.]\n",
            " [1. 0. 1. 0. 1. 0. 1. 0.]]\n"
          ]
        }
      ]
    },
    {
      "cell_type": "markdown",
      "source": [
        "Question 20"
      ],
      "metadata": {
        "id": "-SiblZ7IzQYq"
      }
    },
    {
      "cell_type": "code",
      "source": [
        "x = np.array([[1,2],[3,5]])\n",
        "y = np.array([[5,6],[7,8]])\n",
        "v = np.array([9,10])\n",
        "w = np.array([11,12])\n",
        "sum=np.add(x,y)\n",
        "sub=np.subtract(x,y)\n",
        "multiply=np.multiply(x,y)\n",
        "square=np.square(x)\n",
        "vdotw=np.dot(v,w)\n",
        "xdotv=np.dot(x,v)\n",
        "xdoty=np.dot(x,y)\n",
        "rowconcat=np.concatenate((x,y),axis=0)\n",
        "columnconcat=np.concatenate((x,y),axis=1)\n",
        "print(sum)\n",
        "print(sub)\n",
        "print(multiply)\n",
        "print(square)\n",
        "print(vdotw)\n",
        "print(xdotv)\n",
        "print(xdoty)\n",
        "print(rowconcat)\n",
        "print(columnconcat)"
      ],
      "metadata": {
        "colab": {
          "base_uri": "https://localhost:8080/"
        },
        "id": "dIch4uxAzRxe",
        "outputId": "c32b5645-3e3c-4164-a780-609d8b31098e"
      },
      "execution_count": null,
      "outputs": [
        {
          "output_type": "stream",
          "name": "stdout",
          "text": [
            "[[ 6  8]\n",
            " [10 13]]\n",
            "[[-4 -4]\n",
            " [-4 -3]]\n",
            "[[ 5 12]\n",
            " [21 40]]\n",
            "[[ 1  4]\n",
            " [ 9 25]]\n",
            "219\n",
            "[29 77]\n",
            "[[19 22]\n",
            " [50 58]]\n",
            "[[1 2]\n",
            " [3 5]\n",
            " [5 6]\n",
            " [7 8]]\n",
            "[[1 2 5 6]\n",
            " [3 5 7 8]]\n"
          ]
        }
      ]
    },
    {
      "cell_type": "markdown",
      "source": [
        "Question 21"
      ],
      "metadata": {
        "id": "v9vKiQFtzUEW"
      }
    },
    {
      "cell_type": "code",
      "source": [
        "A = np.array([[3,4],[7,8]])\n",
        "B = np.array([[5,3],[2,1]])\n",
        "ainverse=np.linalg.inv(A)\n",
        "eye=A@ainverse\n",
        "AB=np.matmul(A,B)\n",
        "BA=np.matmul(B,A)\n",
        "At=np.transpose(A)\n",
        "Bt=np.transpose(B)\n",
        "ABt=np.transpose(AB)\n",
        "BtAt=np.matmul(Bt,At)\n",
        "print(eye)\n",
        "print(AB)\n",
        "print(BA)\n",
        "print(ABt)\n",
        "print(BtAt)"
      ],
      "metadata": {
        "colab": {
          "base_uri": "https://localhost:8080/"
        },
        "id": "7weX5nbkzWA1",
        "outputId": "5c093835-5f81-4e07-c32d-2a03a906abc2"
      },
      "execution_count": null,
      "outputs": [
        {
          "output_type": "stream",
          "name": "stdout",
          "text": [
            "[[1.00000000e+00 0.00000000e+00]\n",
            " [1.77635684e-15 1.00000000e+00]]\n",
            "[[23 13]\n",
            " [51 29]]\n",
            "[[36 44]\n",
            " [13 16]]\n",
            "[[23 51]\n",
            " [13 29]]\n",
            "[[23 51]\n",
            " [13 29]]\n"
          ]
        }
      ]
    }
  ]
}